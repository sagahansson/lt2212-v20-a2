{
 "cells": [
  {
   "cell_type": "code",
   "execution_count": null,
   "metadata": {},
   "outputs": [],
   "source": [
    "from sklearn.datasets import fetch_20newsgroups\n",
    "news20 = fetch_20newsgroups(subset='all')"
   ]
  },
  {
   "cell_type": "code",
   "execution_count": null,
   "metadata": {},
   "outputs": [],
   "source": [
    "newsdata = news20.data # = samples in part1(samples) \n",
    "newsdata[0]\n"
   ]
  },
  {
   "cell_type": "code",
   "execution_count": null,
   "metadata": {},
   "outputs": [],
   "source": [
    "##getting filenames\n",
    "for thefile in news20.filenames:\n",
    "    print(thefile)\n",
    "    break"
   ]
  },
  {
   "cell_type": "code",
   "execution_count": null,
   "metadata": {},
   "outputs": [],
   "source": [
    "allfiles = []\n",
    "onefile = []\n",
    "allwords = []\n",
    "for file in newsdata:\n",
    "    onefile = []\n",
    "    lowerfile = file.lower()\n",
    "    newfile = lowerfile.split()\n",
    "    for w in newfile:\n",
    "        if w.isalpha():\n",
    "            onefile.append(w)\n",
    "            \n",
    "    allwords.extend(onefile)\n",
    "    allfiles.append((collections.Counter(onefile)))\n",
    "print(len(allwords))\n",
    "    \n"
   ]
  },
  {
   "cell_type": "code",
   "execution_count": null,
   "metadata": {},
   "outputs": [],
   "source": [
    "# funkar säkert jättebra men tar fan hundra år\n",
    "#count = 0\n",
    "#print('hello')\n",
    "#for afile in allfiles:\n",
    "#    for word in allwords:\n",
    "#        \n",
    "#        if word not in afile.keys():\n",
    "#            afile.update({word: 0})\n",
    "#        print(count)\n",
    "#        count += 1"
   ]
  },
  {
   "cell_type": "code",
   "execution_count": null,
   "metadata": {},
   "outputs": [],
   "source": [
    "allfiles[0]"
   ]
  },
  {
   "cell_type": "code",
   "execution_count": null,
   "metadata": {},
   "outputs": [],
   "source": [
    "d = {1: \"one\", 2: \"three\"}\n",
    "d1 = {2: \"two\", 3: \"three\"}\n",
    "\n",
    "# updates the value of key 2\n",
    "d.update(d1)\n",
    "print(d)"
   ]
  },
  {
   "cell_type": "code",
   "execution_count": null,
   "metadata": {},
   "outputs": [],
   "source": [
    "count = 0\n",
    "for afile in allfiles:\n",
    "    notinfile = [item for item in allwords if item not in afile.keys()]\n",
    "    dict_value = 0\n",
    "    dict_with0s = dict.fromkeys(notinfile, dict_value)\n",
    "    afile.update(dict_with0s)\n",
    "    print(count)\n",
    "    count += 1"
   ]
  },
  {
   "cell_type": "code",
   "execution_count": null,
   "metadata": {
    "scrolled": false
   },
   "outputs": [],
   "source": [
    "for onefile in allfiles:\n",
    "    for key, val in sorted(onefile.items()):\n",
    "        print(key, val)\n",
    "    break"
   ]
  },
  {
   "cell_type": "code",
   "execution_count": null,
   "metadata": {},
   "outputs": [],
   "source": [
    "little_list = []\n",
    "big_list = []\n",
    "\n",
    "for file in allfiles:\n",
    "    for key, val in sorted(file.items()):\n",
    "        little_list.append(val)\n",
    "    big_list.append(little_list)\n",
    "        "
   ]
  },
  {
   "cell_type": "code",
   "execution_count": null,
   "metadata": {},
   "outputs": [],
   "source": [
    "big_list[0]"
   ]
  },
  {
   "cell_type": "code",
   "execution_count": null,
   "metadata": {},
   "outputs": [],
   "source": []
  },
  {
   "cell_type": "code",
   "execution_count": null,
   "metadata": {},
   "outputs": [],
   "source": []
  },
  {
   "cell_type": "code",
   "execution_count": null,
   "metadata": {},
   "outputs": [],
   "source": []
  }
 ],
 "metadata": {
  "kernelspec": {
   "display_name": "Python 3",
   "language": "python",
   "name": "python3"
  },
  "language_info": {
   "codemirror_mode": {
    "name": "ipython",
    "version": 3
   },
   "file_extension": ".py",
   "mimetype": "text/x-python",
   "name": "python",
   "nbconvert_exporter": "python",
   "pygments_lexer": "ipython3",
   "version": "3.7.4"
  }
 },
 "nbformat": 4,
 "nbformat_minor": 2
}
